{
 "cells": [
  {
   "cell_type": "markdown",
   "id": "417b076f",
   "metadata": {},
   "source": [
    "### Jupyter Notebook Settings"
   ]
  },
  {
   "cell_type": "code",
   "execution_count": 2,
   "id": "87211b8e",
   "metadata": {},
   "outputs": [
    {
     "name": "stderr",
     "output_type": "stream",
     "text": [
      "/var/folders/ry/454yhlzx6hd15j7rjv4th0lw0000gn/T/ipykernel_2725/2003764878.py:1: DeprecationWarning: Importing display from IPython.core.display is deprecated since IPython 7.14, please import from IPython display\n",
      "  from IPython.core.display import display, HTML\n"
     ]
    },
    {
     "data": {
      "text/html": [
       "<style>.container { width:100% !important; }</style>"
      ],
      "text/plain": [
       "<IPython.core.display.HTML object>"
      ]
     },
     "metadata": {},
     "output_type": "display_data"
    }
   ],
   "source": [
    "from IPython.core.display import display, HTML                                    \n",
    "display(HTML(\"<style>.container { width:100% !important; }</style>\"))  \n",
    "import IPython.display as display"
   ]
  },
  {
   "cell_type": "markdown",
   "id": "194afdf2",
   "metadata": {},
   "source": [
    "### Libraries"
   ]
  },
  {
   "cell_type": "code",
   "execution_count": null,
   "id": "60e681a3",
   "metadata": {},
   "outputs": [],
   "source": [
    "import nltk\n",
    "from nltk.stem import WordNetLemmatizer\n",
    "from collections import Counter"
   ]
  },
  {
   "cell_type": "code",
   "execution_count": null,
   "id": "ce109b6a",
   "metadata": {},
   "outputs": [],
   "source": [
    "# Download necessary NLTK data\n",
    "nltk.download('wordnet')\n",
    "nltk.download('omw-1.4')"
   ]
  },
  {
   "cell_type": "markdown",
   "id": "aa3c604a",
   "metadata": {},
   "source": [
    "### Data"
   ]
  },
  {
   "cell_type": "code",
   "execution_count": null,
   "id": "d18ee70a",
   "metadata": {},
   "outputs": [],
   "source": [
    "# The list of words you provided\n",
    "words = [\n",
    "    'the', 'be', 'to', 'of', 'and', 'a', 'in', 'that', 'have', 'I', 'it', 'for', 'not', 'on', 'with', 'he', 'as',\n",
    "    'you', 'do', 'at', 'this', 'but', 'his', 'by', 'from', 'they', 'we', 'say', 'her', 'she', 'or', 'an', 'will', \n",
    "    'my', 'one', 'all', 'would', 'there', 'their', 'what', 'so', 'up', 'out', 'if', 'about', 'who', 'get', 'which',\n",
    "    'go', 'me', 'when', 'make', 'can', 'like', 'time', 'no', 'just', 'him', 'know', 'take', 'people', 'into', 'year',\n",
    "    'your', 'good', 'some', 'could', 'them', 'see', 'other', 'than', 'then', 'now', 'look', 'only', 'come', 'its',\n",
    "    'over', 'think', 'also', 'back', 'after', 'use', 'two', 'how', 'our', 'work', 'first', 'well', 'way', 'even',\n",
    "    'new', 'want', 'because', 'any', 'these', 'give', 'day', 'most', 'us', 'is', 'are', 'was', 'where', 'very', 'here',\n",
    "    'thing', 'still', 'when', 'every', 'away', 'off', 'old', 'came', 'later', 'own', 'many', 'before', 'while', 'last',\n",
    "    'again', 'since', 'high', 'different', 'although', 'might', 'far', 'better', 'enough', 'house', 'room', 'course',\n",
    "    'group', 'against', 'money', 'till', 'form', 'often', 'within', 'small', 'yes', 'right', 'next', 'though', 'side',\n",
    "    'however', 'usually', 'move', 'let', 'without', 'mind', 'less', 'matter', 'public', 'person', 'father', 'mother',\n",
    "    'stop', 'question', 'possible', 'open', 'together', 'word', 'begin', 'order', 'home', 'ask', 'program', 'offer',\n",
    "    'young', 'try', 'reason', 'least', 'power', 'hour', 'pay', 'hold', 'today', 'until', 'name', 'face', 'keep', 'job',\n",
    "    'system', 'believe', 'plan', 'end', 'party', 'turn', 'big', 'area', 'late', 'add', 'yet', 'lead', 'continue',\n",
    "    'stand', 'mean', 'four', 'line', 'water', 'present', 'once', 'head', 'long', 'learn', 'change', 'place', 'leave',\n",
    "    'live', 'help', 'case', 'hand', 'class', 'second', 'stay', 'real', 'food', 'able', 'speak', 'social', 'sense',\n",
    "    'near', 'build', 'seem', 'society', 'sit', 'read', 'easy', 'ready', 'buy', 'ever', 'record', 'clear', 'picture',\n",
    "    'car', 'drive', 'walk', 'talk', 'general', 'whole', 'remember', 'enough', 'free', 'today', 'hour', 'someone',\n",
    "    'remain', 'member', 'work', 'rest', 'best', 'present', 'understand', 'level', 'spend', 'allow', 'door', 'lie',\n",
    "    'reach', 'sit', 'list', 'perhaps', 'night', 'reason', 'test', 'cost', 'begin', 'suggest', 'near', 'hold', 'care',\n",
    "    'important', 'report', 'else', 'during', 'free', 'according', 'carry', 'either', 'police', 'allow', 'health',\n",
    "    'decision', 'process', 'plan', 'project', 'certain', 'age', 'field', 'single', 'remain', 'price', 'help', 'wait',\n",
    "    'result', 'office', 'deal', 'guy', 'past', 'wife', 'question', 'short', 'report', 'walk', 'bank', 'store', 'design',\n",
    "    'draw', 'pick', 'figure', 'final', 'ready', 'term', 'court', 'determine', 'close', 'season', 'already', 'ground',\n",
    "    'return', 'trial', 'finally', 'real', 'agree', 'trial', 'decide', 'ground', 'rule', 'main', 'role', 'deep', 'source',\n",
    "    'choose', 'itself', 'choice', 'charge', 'cent', 'visit', 'degree', 'clear', 'present', 'beyond', 'vote', 'none',\n",
    "    'discuss', 'author', 'hit', 'occur', 'agree', 'song', 'capital', 'usually', 'worker', 'foot', 'note', 'trial',\n",
    "    'draw', 'opportunity', 'key', 'dream', 'income', 'cup', 'drop', 'explain', 'arm', 'manage', 'avoid', 'finish',\n",
    "    'detail', 'media', 'difficult', 'item', 'wear', 'wonder', 'tend', 'skill', 'method', 'goal', 'theory', 'stage',\n",
    "    'feature', 'due', 'debate', 'floor', 'document', 'evening', 'season', 'argument', 'wonder', 'specific', 'spread',\n",
    "    'strength', 'obvious', 'deep', 'possibility', 'video', 'image', 'search', 'balance', 'director', 'popular',\n",
    "    'connection', 'conclusion', 'measure', 'positive', 'opportunity', 'fit', 'interview', 'employee', 'tool',\n",
    "    'department', 'central', 'culture', 'procedure', 'suitable', 'regional', 'supply', 'official', 'relatively',\n",
    "    'potential', 'firm', 'deliver', 'resource', 'colleague', 'theme', 'lack', 'branch', 'vision', 'objective', 'league',\n",
    "    'household', 'reaction', 'industrial', 'legislation', 'division', 'component', 'familiar', 'extend', 'select',\n",
    "    'agreement', 'solve', 'rely', 'conflict', 'suppose', 'attitude', 'regime', 'brief', 'domestic', 'decline', 'mark',\n",
    "    'user', 'link', 'introduce', 'urban', 'conduct', 'attract', 'arrangement', 'transport', 'load', 'emerge', 'contributor',\n",
    "    'narrow', 'switch', 'breath', 'coverage', 'peer', 'chamber', 'expense', 'welfare', 'arrest', 'butter', 'counter',\n",
    "    'scope', 'explosion', 'investor', 'fold', 'meter', 'tissue', 'clinic', 'rapid', 'dialogue', 'biological', 'coat',\n",
    "    'recession', 'queue', 'cousin', 'usage', 'discrimination', 'subsidy', 'queue', 'isolation', 'volcano', 'plug',\n",
    "    'deficit', 'trigger', 'quarterly', 'prejudice', 'saint', 'sculpture', 'advocate', 'bishop', 'voluntary', 'tremendous',\n",
    "    'allowance', 'foster', 'statistically', 'provoke', 'intricate', 'pharmacy', 'dual', 'periodically', 'indulge',\n",
    "    'simultaneously', 'infrastructure', 'psychiatrist', 'eclipse', 'ultimately', 'indicator', 'subscription', 'ambiguity',\n",
    "    'fireworks', 'predictable', 'acceleration', 'differentiation', 'equilibrium', 'enthusiasm', 'diagnosis', 'systematically',\n",
    "    'misunderstanding', 'continuously', 'breakdown', 'effectively', 'sophisticated', 'encouragement', 'translation',\n",
    "    'consumption', 'consistently', 'transmission', 'supermarket', 'negotiation', 'contradiction', 'announcement',\n",
    "    'disappointment', 'characteristic', 'fundamentally', 'preservation', 'documentation', 'automatically', 'competitiveness',\n",
    "    'enthusiastic', 'conveniently', 'interpretation', 'compatibility', 'unintentional', 'implementation', 'sophistication',\n",
    "    'pharmaceutical', 'sustainability', 'misunderstanding', 'spokesperson', 'differentiation', 'fundamentally', 'friend'\n",
    "]"
   ]
  },
  {
   "cell_type": "markdown",
   "id": "747c6ceb",
   "metadata": {},
   "source": [
    "### Create Huffman Codes as binary\n",
    "##### The reason for binary encoding is to save memory on the microcontroller"
   ]
  },
  {
   "cell_type": "code",
   "execution_count": null,
   "id": "eae70d8a",
   "metadata": {},
   "outputs": [],
   "source": [
    "# Initialize lemmatizer\n",
    "lemmatizer = WordNetLemmatizer()\n",
    "\n",
    "# Step 1: Reduce words to their root forms\n",
    "roots = [lemmatizer.lemmatize(word) for word in words]\n",
    "\n",
    "# Step 2: Count frequency of each root word\n",
    "frequency = Counter(roots).most_common()\n",
    "\n",
    "# Step 3: Assign binary codes for root words\n",
    "huffman_codes = {}\n",
    "binary_code = 0\n",
    "\n",
    "for word, _ in frequency:\n",
    "    huffman_codes[word] = bin(binary_code)[2:]\n",
    "    binary_code += 1\n",
    "\n",
    "# Step 4: Define common suffixes and punctuation/symbols\n",
    "suffixes = [\"ing\", \"ed\", \"es\", \"s\", \"ly\", \"er\", \"ion\", \"al\", \"able\", \"ness\", \"ful\", \"less\", \"ous\", \"ment\", \"ive\", \"ize\", \"en\", \"ity\", \"ant\"]\n",
    "punctuation_symbols = [\" \", \".\", \",\", \"!\", \"?\", \";\", \":\", \"-\", \"_\", \"(\", \")\", \"[\", \"]\", \"{\", \"}\", \"\\\"\", \"'\", \"…\", \"@\", \"#\", \"$\", \"%\", \"^\", \"&\", \"*\", \"+\", \"=\", \"<\", \">\", \"/\", \"\\\\\", \"|\", \"~\", \"`\"]\n",
    "\n",
    "# Function to escape special characters for Arduino output\n",
    "def escape_for_arduino(char):\n",
    "    if char == \"'\":\n",
    "        return \"\\\\'\"  # Escape single quote\n",
    "    elif char == \"\\\"\":\n",
    "        return \"\\\\\\\"\"  # Escape double quote\n",
    "    elif char == \"\\\\\":\n",
    "        return \"\\\\\\\\\"  # Escape backslash\n",
    "    elif char == \"\\n\":\n",
    "        return \"\\\\n\"  # Escape newline\n",
    "    elif char == \"\\r\":\n",
    "        return \"\\\\r\"  # Escape carriage return\n",
    "    elif char == \"\\t\":\n",
    "        return \"\\\\t\"  # Escape tab\n",
    "    else:\n",
    "        return char  # Return other characters unchanged\n",
    "\n",
    "# Assign binary codes for suffixes\n",
    "for suffix in suffixes:\n",
    "    huffman_codes[suffix] = bin(binary_code)[2:]\n",
    "    binary_code += 1\n",
    "\n",
    "# Assign binary codes for punctuation and symbols\n",
    "for symbol in punctuation_symbols:\n",
    "    huffman_codes[symbol] = bin(binary_code)[2:]\n",
    "    binary_code += 1\n",
    "\n",
    "# Step 5: Print Huffman table in Arduino format\n",
    "print(\"const HuffmanCode huffmanTable[] = {\")\n",
    "\n",
    "for word, code in huffman_codes.items():\n",
    "    # Escape special characters\n",
    "    escaped_word = ''.join(escape_for_arduino(char) for char in word)\n",
    "    print(f\"  {{'{escaped_word}', \\\"{code}\\\"}},\")\n",
    "    \n",
    "print(\"};\")\n",
    "\n",
    "# Step 6: Print suffixes and punctuation/symbols with their codes\n",
    "print(\"\\nSuffixes with Huffman Codes:\")\n",
    "for suffix in suffixes:\n",
    "    escaped_suffix = ''.join(escape_for_arduino(char) for char in suffix)\n",
    "    print(f\"  {{'{escaped_suffix}', \\\"{huffman_codes[suffix]}\\\"}},\")\n",
    "\n",
    "print(\"\\nPunctuation/Symbols with Huffman Codes:\")\n",
    "for symbol in punctuation_symbols:\n",
    "    escaped_symbol = ''.join(escape_for_arduino(char) for char in symbol)\n",
    "    print(f\"  {{'{escaped_symbol}', \\\"{huffman_codes[symbol]}\\\"}},\")"
   ]
  },
  {
   "cell_type": "markdown",
   "id": "cf7ae5b0",
   "metadata": {},
   "source": [
    "### Testing Decoding"
   ]
  },
  {
   "cell_type": "code",
   "execution_count": null,
   "id": "353b9a69",
   "metadata": {},
   "outputs": [],
   "source": [
    "def encode(phrase, huffman_codes):\n",
    "    # Convert the phrase to lowercase\n",
    "    phrase = phrase.lower()\n",
    "    encoded_phrase = []\n",
    "\n",
    "    i = 0\n",
    "    while i < len(phrase):\n",
    "        char = phrase[i]\n",
    "\n",
    "        # Handle spaces directly as they don't require word splitting\n",
    "        if char.isspace():\n",
    "            encoded_phrase.append(huffman_codes[' '])\n",
    "            i += 1\n",
    "            continue\n",
    "\n",
    "        # Handle punctuation\n",
    "        if not char.isalnum():\n",
    "            if char in huffman_codes:\n",
    "                encoded_phrase.append(huffman_codes[char])\n",
    "            else:\n",
    "                raise ValueError(f\"Punctuation '{char}' not found in Huffman codes.\")\n",
    "            i += 1\n",
    "            continue\n",
    "\n",
    "        # Extract the word including potential suffixes\n",
    "        word_start = i\n",
    "        while i < len(phrase) and phrase[i].isalnum():\n",
    "            i += 1\n",
    "        word = phrase[word_start:i]\n",
    "\n",
    "        # Attempt to find a valid suffix that can be removed\n",
    "        suffix = None\n",
    "        root_word = word  # Assume the whole word is the root initially\n",
    "        for sfx in suffixes:\n",
    "            if word.endswith(sfx):\n",
    "                potential_root = word[:-len(sfx)]\n",
    "                # Check if the remaining part is a valid root word\n",
    "                if potential_root in huffman_codes:\n",
    "                    suffix = sfx\n",
    "                    root_word = potential_root\n",
    "                    break\n",
    "\n",
    "        # Encode the root word\n",
    "        if root_word in huffman_codes:\n",
    "            encoded_phrase.append(huffman_codes[root_word])\n",
    "        else:\n",
    "            raise ValueError(f\"Root word '{root_word}' not found in Huffman codes.\")\n",
    "\n",
    "        # Encode the suffix, if any\n",
    "        if suffix:\n",
    "            if suffix in huffman_codes:\n",
    "                encoded_phrase.append(huffman_codes[suffix])\n",
    "            else:\n",
    "                raise ValueError(f\"Suffix '{suffix}' not found in Huffman codes.\")\n",
    "\n",
    "    return encoded_phrase\n",
    "\n",
    "def decode(encoded_phrase_array, huffman_codes):\n",
    "    # Invert the huffman_codes dictionary to decode\n",
    "    inverse_huffman_codes = {v: k for k, v in huffman_codes.items()}\n",
    "    decoded_phrase = \"\"\n",
    "\n",
    "    for encoded_word in encoded_phrase_array:\n",
    "        if encoded_word in inverse_huffman_codes:\n",
    "            decoded_phrase += inverse_huffman_codes[encoded_word]\n",
    "        else:\n",
    "            raise ValueError(f\"Encoded word '{encoded_word}' not found in Huffman codes.\")\n",
    "\n",
    "    return decoded_phrase"
   ]
  },
  {
   "cell_type": "code",
   "execution_count": null,
   "id": "08975b7d",
   "metadata": {},
   "outputs": [],
   "source": [
    "phrase = \"How are you doing today, my friend?\"\n",
    "encoded = encode(phrase, huffman_codes)\n",
    "print(f\"Encoded: {encoded}\")\n",
    "\n",
    "decoded = decode(encoded, huffman_codes)\n",
    "print(f\"Decoded: {decoded}\")"
   ]
  }
 ],
 "metadata": {
  "kernelspec": {
   "display_name": "Python 3.11 (tf-gpu-m1)",
   "language": "python",
   "name": "tf-gpu-m1"
  },
  "language_info": {
   "codemirror_mode": {
    "name": "ipython",
    "version": 3
   },
   "file_extension": ".py",
   "mimetype": "text/x-python",
   "name": "python",
   "nbconvert_exporter": "python",
   "pygments_lexer": "ipython3",
   "version": "3.11.9"
  }
 },
 "nbformat": 4,
 "nbformat_minor": 5
}
