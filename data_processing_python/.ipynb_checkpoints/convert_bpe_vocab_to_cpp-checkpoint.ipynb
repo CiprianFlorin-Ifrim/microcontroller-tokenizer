{
 "cells": [
  {
   "cell_type": "markdown",
   "id": "db3d755b",
   "metadata": {},
   "source": [
    "### Jupyter Notebook Settings"
   ]
  },
  {
   "cell_type": "code",
   "execution_count": null,
   "id": "8d45f5b5",
   "metadata": {},
   "outputs": [],
   "source": [
    "from IPython.core.display import display, HTML                                    \n",
    "display(HTML(\"<style>.container { width:100% !important; }</style>\"))  \n",
    "import IPython.display as display"
   ]
  },
  {
   "cell_type": "markdown",
   "id": "63f1b053",
   "metadata": {},
   "source": [
    "### Libraries"
   ]
  },
  {
   "cell_type": "code",
   "execution_count": null,
   "id": "47dee767",
   "metadata": {},
   "outputs": [],
   "source": [
    "import os\n",
    "import re"
   ]
  },
  {
   "cell_type": "markdown",
   "id": "2b0e1ff5",
   "metadata": {},
   "source": [
    "### Script to generate C++ code for BPE vocabulary with <w> suffix removed and special characters escaped"
   ]
  },
  {
   "cell_type": "code",
   "execution_count": null,
   "id": "1d6e29b1",
   "metadata": {},
   "outputs": [],
   "source": [
    "# Specify the path to your cleaned BPE vocabulary file\n",
    "vocab_file_path = \"bpe_vocab_cleaned.txt\"\n",
    "\n",
    "# Output file where the generated C++ code will be saved\n",
    "output_file_path = \"bpe_vocabulary.cpp\"\n",
    "\n",
    "# Function to escape special characters in a string for C++ string literals\n",
    "def escape_special_characters(token):\n",
    "    # Escape backslashes, double quotes, and other special characters\n",
    "    token = token.replace('\\\\', '\\\\\\\\')\n",
    "    token = token.replace('\\\"', '\\\\\\\"')\n",
    "    token = token.replace('\\'', '\\\\\\'')\n",
    "    token = token.replace('\\n', '\\\\n')\n",
    "    token = token.replace('\\r', '\\\\r')\n",
    "    token = token.replace('\\t', '\\\\t')\n",
    "    token = token.replace('<space>', ' ')\n",
    "    return token\n",
    "\n",
    "# Function to generate the C++ code\n",
    "def generate_cpp_vocabulary(vocab_file_path, output_file_path):\n",
    "    with open(vocab_file_path, \"r\") as vocab_file, open(output_file_path, \"w\") as output_file:\n",
    "        # Start the C++ array declaration\n",
    "        output_file.write('const char* const bpeVocabulary[] = {\\n')\n",
    "\n",
    "        # Read the vocabulary file and format each line\n",
    "        for line in vocab_file:\n",
    "            token = line.strip()\n",
    "            # Remove the </w> suffix if present\n",
    "            if token.endswith(\"</w>\"):\n",
    "                token = token[:-4]\n",
    "            # Escape special characters\n",
    "            token = escape_special_characters(token)\n",
    "            output_file.write(f'    \"{token}\",\\n')\n",
    "\n",
    "        # Close the array declaration\n",
    "        output_file.write('};\\n')\n",
    "\n",
    "        # Add the size of the vocabulary\n",
    "        output_file.write(f'\\nconst int numTokens = {sum(1 for _ in open(vocab_file_path))};\\n')\n",
    "\n",
    "# Run the function to generate the C++ code\n",
    "generate_cpp_vocabulary(vocab_file_path, output_file_path)\n",
    "\n",
    "print(f\"C++ vocabulary file generated: {output_file_path}\")"
   ]
  }
 ],
 "metadata": {
  "kernelspec": {
   "display_name": "Python 3.11 (tf-gpu-m1)",
   "language": "python",
   "name": "tf-gpu-m1"
  },
  "language_info": {
   "codemirror_mode": {
    "name": "ipython",
    "version": 3
   },
   "file_extension": ".py",
   "mimetype": "text/x-python",
   "name": "python",
   "nbconvert_exporter": "python",
   "pygments_lexer": "ipython3",
   "version": "3.11.9"
  }
 },
 "nbformat": 4,
 "nbformat_minor": 5
}
